{
 "cells": [
  {
   "cell_type": "markdown",
   "id": "efb070bd-339a-4bc5-acda-309b3b8f2c5c",
   "metadata": {
    "vscode": {
     "languageId": "raw"
    }
   },
   "source": [
    "# 📊 TensorBoard Training Monitor for GRPO\n",
    "\n",
    "## Overview\n",
    "\n",
    "This notebook provides a comprehensive guide for monitoring your GRPO training using **TensorBoard**. TensorBoard is an essential tool for visualizing machine learning workflows, tracking model performance, and debugging training issues in real-time.\n",
    "\n",
    "### What You'll Learn\n",
    "\n",
    "- **TensorBoard Setup**: Installing and configuring TensorBoard for NeMo RL\n",
    "- **Real-time Monitoring**: Tracking training progress as it happens\n",
    "- **Metrics Analysis**: Understanding key performance indicators of GRPO training\n",
    "\n",
    "### When to Use This Notebook\n",
    "\n",
    "- **During Training**: Monitor ongoing GRPO training sessions\n",
    "- **Post-Training Analysis**: Review completed training runs\n",
    "- **Experiment Comparison**: Compare different training configurations\n",
    "- **Debugging**: Identify training problems or convergence issues\n",
    "\n",
    "### Prerequisites\n",
    "\n",
    "- Active or completed GRPO training (from the `1.grpo_training_nemo_rl` notebook) \n",
    "- Basic understanding of machine learning metrics\n",
    "\n"
   ]
  },
  {
   "cell_type": "markdown",
   "id": "3fef1e6e-b106-4dbe-bb17-7b73c61a27c3",
   "metadata": {
    "vscode": {
     "languageId": "raw"
    }
   },
   "source": [
    "## 📦 Step 1: Installing TensorBoard\n",
    "\n",
    "If TensorBoard isn't already installed in your environment, we'll install it now. TensorBoard comes with several dependencies for visualization and web serving.\n",
    "\n",
    "### Key Components Installed\n",
    "- **TensorBoard Core**: Main visualization engine\n",
    "- **gRPC**: Communication protocol for data streaming\n",
    "- **Protobuf**: Data serialization for efficient logging\n",
    "- **Werkzeug**: Web server for the TensorBoard interface\n"
   ]
  },
  {
   "cell_type": "code",
   "execution_count": 2,
   "id": "331477c9-799b-47dc-85a3-58c48d0a85ef",
   "metadata": {},
   "outputs": [
    {
     "name": "stdout",
     "output_type": "stream",
     "text": [
      "Collecting tensorboard\n",
      "  Downloading tensorboard-2.20.0-py3-none-any.whl.metadata (1.8 kB)\n",
      "Collecting absl-py>=0.4 (from tensorboard)\n",
      "  Downloading absl_py-2.3.1-py3-none-any.whl.metadata (3.3 kB)\n",
      "Collecting grpcio>=1.48.2 (from tensorboard)\n",
      "  Downloading grpcio-1.73.1-cp310-cp310-manylinux_2_17_x86_64.manylinux2014_x86_64.whl.metadata (3.8 kB)\n",
      "Collecting markdown>=2.6.8 (from tensorboard)\n",
      "  Downloading markdown-3.8.2-py3-none-any.whl.metadata (5.1 kB)\n",
      "Requirement already satisfied: numpy>=1.12.0 in /opt/conda/lib/python3.10/site-packages (from tensorboard) (1.26.3)\n",
      "Requirement already satisfied: packaging in /opt/conda/lib/python3.10/site-packages (from tensorboard) (23.1)\n",
      "Requirement already satisfied: pillow in /opt/conda/lib/python3.10/site-packages (from tensorboard) (10.0.1)\n",
      "Collecting protobuf!=4.24.0,>=3.19.6 (from tensorboard)\n",
      "  Downloading protobuf-6.31.1-cp39-abi3-manylinux2014_x86_64.whl.metadata (593 bytes)\n",
      "Requirement already satisfied: setuptools>=41.0.0 in /opt/conda/lib/python3.10/site-packages (from tensorboard) (68.2.2)\n",
      "Collecting tensorboard-data-server<0.8.0,>=0.7.0 (from tensorboard)\n",
      "  Downloading tensorboard_data_server-0.7.2-py3-none-manylinux_2_31_x86_64.whl.metadata (1.1 kB)\n",
      "Collecting werkzeug>=1.0.1 (from tensorboard)\n",
      "  Downloading werkzeug-3.1.3-py3-none-any.whl.metadata (3.7 kB)\n",
      "Requirement already satisfied: MarkupSafe>=2.1.1 in /opt/conda/lib/python3.10/site-packages (from werkzeug>=1.0.1->tensorboard) (2.1.3)\n",
      "Downloading tensorboard-2.20.0-py3-none-any.whl (5.5 MB)\n",
      "\u001b[2K   \u001b[90m━━━━━━━━━━━━━━━━━━━━━━━━━━━━━━━━━━━━━━━━\u001b[0m \u001b[32m5.5/5.5 MB\u001b[0m \u001b[31m44.5 MB/s\u001b[0m eta \u001b[36m0:00:00\u001b[0ma \u001b[36m0:00:01\u001b[0m\n",
      "\u001b[?25hDownloading absl_py-2.3.1-py3-none-any.whl (135 kB)\n",
      "\u001b[2K   \u001b[90m━━━━━━━━━━━━━━━━━━━━━━━━━━━━━━━━━━━━━━━━\u001b[0m \u001b[32m135.8/135.8 kB\u001b[0m \u001b[31m20.4 MB/s\u001b[0m eta \u001b[36m0:00:00\u001b[0m\n",
      "\u001b[?25hDownloading grpcio-1.73.1-cp310-cp310-manylinux_2_17_x86_64.manylinux2014_x86_64.whl (6.0 MB)\n",
      "\u001b[2K   \u001b[90m━━━━━━━━━━━━━━━━━━━━━━━━━━━━━━━━━━━━━━━━\u001b[0m \u001b[32m6.0/6.0 MB\u001b[0m \u001b[31m140.9 MB/s\u001b[0m eta \u001b[36m0:00:00\u001b[0m00:01\u001b[0m\n",
      "\u001b[?25hDownloading markdown-3.8.2-py3-none-any.whl (106 kB)\n",
      "\u001b[2K   \u001b[90m━━━━━━━━━━━━━━━━━━━━━━━━━━━━━━━━━━━━━━━━\u001b[0m \u001b[32m106.8/106.8 kB\u001b[0m \u001b[31m21.2 MB/s\u001b[0m eta \u001b[36m0:00:00\u001b[0m\n",
      "\u001b[?25hDownloading protobuf-6.31.1-cp39-abi3-manylinux2014_x86_64.whl (321 kB)\n",
      "\u001b[2K   \u001b[90m━━━━━━━━━━━━━━━━━━━━━━━━━━━━━━━━━━━━━━━━\u001b[0m \u001b[32m321.1/321.1 kB\u001b[0m \u001b[31m68.0 MB/s\u001b[0m eta \u001b[36m0:00:00\u001b[0m\n",
      "\u001b[?25hDownloading tensorboard_data_server-0.7.2-py3-none-manylinux_2_31_x86_64.whl (6.6 MB)\n",
      "\u001b[2K   \u001b[90m━━━━━━━━━━━━━━━━━━━━━━━━━━━━━━━━━━━━━━━━\u001b[0m \u001b[32m6.6/6.6 MB\u001b[0m \u001b[31m61.3 MB/s\u001b[0m eta \u001b[36m0:00:00\u001b[0m00:01\u001b[0m00:01\u001b[0m\n",
      "\u001b[?25hDownloading werkzeug-3.1.3-py3-none-any.whl (224 kB)\n",
      "\u001b[2K   \u001b[90m━━━━━━━━━━━━━━━━━━━━━━━━━━━━━━━━━━━━━━━━\u001b[0m \u001b[32m224.5/224.5 kB\u001b[0m \u001b[31m46.5 MB/s\u001b[0m eta \u001b[36m0:00:00\u001b[0m\n",
      "\u001b[?25hInstalling collected packages: werkzeug, tensorboard-data-server, protobuf, markdown, grpcio, absl-py, tensorboard\n",
      "Successfully installed absl-py-2.3.1 grpcio-1.73.1 markdown-3.8.2 protobuf-6.31.1 tensorboard-2.20.0 tensorboard-data-server-0.7.2 werkzeug-3.1.3\n",
      "\u001b[33mWARNING: Running pip as the 'root' user can result in broken permissions and conflicting behaviour with the system package manager. It is recommended to use a virtual environment instead: https://pip.pypa.io/warnings/venv\u001b[0m\u001b[33m\n",
      "\u001b[0mNote: you may need to restart the kernel to use updated packages.\n"
     ]
    }
   ],
   "source": [
    "# Install TensorBoard and its dependencies\n",
    "# This may take a moment as it downloads several packages\n",
    "%pip install tensorboard"
   ]
  },
  {
   "cell_type": "markdown",
   "id": "82039fc7-fe52-4645-98a6-7f02f218d837",
   "metadata": {
    "vscode": {
     "languageId": "raw"
    }
   },
   "source": [
    "## 🔧 Step 2: Loading TensorBoard Extension\n",
    "\n",
    "We'll load the TensorBoard extension for Jupyter notebooks. This allows us to run TensorBoard directly within our notebook environment for seamless monitoring.\n",
    "\n",
    "### What This Does\n",
    "- **Jupyter Integration**: Enables `%tensorboard` magic commands\n",
    "- **Inline Visualization**: Display TensorBoard interface within the notebook\n",
    "- **Interactive Monitoring**: Real-time updates without external browser tabs\n"
   ]
  },
  {
   "cell_type": "code",
   "execution_count": 4,
   "id": "173cf303-b8d7-4464-bc8b-ed2f7f22317e",
   "metadata": {},
   "outputs": [
    {
     "name": "stdout",
     "output_type": "stream",
     "text": [
      "The tensorboard extension is already loaded. To reload it, use:\n",
      "  %reload_ext tensorboard\n"
     ]
    }
   ],
   "source": [
    "# Load TensorBoard extension for Jupyter\n",
    "# This enables magic commands like %tensorboard for inline visualization\n",
    "%load_ext tensorboard"
   ]
  },
  {
   "cell_type": "markdown",
   "id": "17c8d1c7-f050-473c-938c-4a7f85b000bf",
   "metadata": {
    "vscode": {
     "languageId": "raw"
    }
   },
   "source": [
    "## 🚀 Step 3: Launching TensorBoard\n",
    "\n",
    "Now we'll start TensorBoard to monitor our GRPO training. We'll point it to the log directory where NeMo RL saves training metrics.\n",
    "\n",
    "### Understanding the Command\n",
    "\n",
    "The `%tensorboard` command will:\n",
    "- **Load Training Logs**: Read from the specified directory\n",
    "- **Start Web Server**: Launch on port 6066 for visualization\n"
   ]
  },
  {
   "cell_type": "code",
   "execution_count": 5,
   "id": "21553c33-86ee-438e-a1ed-6f8fe64a4009",
   "metadata": {},
   "outputs": [
    {
     "data": {
      "text/html": [
       "\n",
       "      <iframe id=\"tensorboard-frame-688b0bb28dec5ca4\" width=\"100%\" height=\"800\" frameborder=\"0\">\n",
       "      </iframe>\n",
       "      <script>\n",
       "        (function() {\n",
       "          const frame = document.getElementById(\"tensorboard-frame-688b0bb28dec5ca4\");\n",
       "          const url = new URL(\"/\", window.location);\n",
       "          const port = 6066;\n",
       "          if (port) {\n",
       "            url.port = port;\n",
       "          }\n",
       "          frame.src = url;\n",
       "        })();\n",
       "      </script>\n",
       "    "
      ],
      "text/plain": [
       "<IPython.core.display.HTML object>"
      ]
     },
     "metadata": {},
     "output_type": "display_data"
    }
   ],
   "source": [
    "# Launch TensorBoard with our GRPO training logs\n",
    "# --logdir: Points to the directory containing training metrics\n",
    "# --port: Specifies port 6066 for the web interface (avoids conflicts)\n",
    "# \n",
    "# 🔄 This may take 30-60 seconds to fully load\n",
    "# 📊 Use the link on the Brev interface to access the tensorboard through web browser: Click \"Access\" button on your laucnable deployment page -> Scroll to \"Using Secure Links\" -> Click the link of port 6066\n",
    "# Note: You will see error similar to \"jupyter0-8g4uin6gc.brevlab.com took too long to respond.\" in the cell output here, which can be ignored. \n",
    "%tensorboard --logdir /root/verb-workspace/NeMo-RL/logs/exp_001/tensorboard --port 6066"
   ]
  },
  {
   "cell_type": "raw",
   "id": "0e605ada",
   "metadata": {
    "vscode": {
     "languageId": "raw"
    }
   },
   "source": [
    "## 🌐 Accessing TensorBoard from Your Browser (Markdown Version)\n",
    "\n",
    "After launching TensorBoard above, you'll need to access it through your browser using the Brev interface. Follow these visual steps:\n",
    "\n",
    "![TensorBoard Browser Access](tensorboard_browser_access.png)\n",
    "\n",
    "### Step-by-Step Browser Access:\n",
    "\n",
    "1. **Navigate to Brev Interface**: Go to your Brev deployed instance page\n",
    "2. **Click \"Access\" Button**: Find and click the \"Access\" button on your launchable deployment page  \n",
    "3. **Scroll to \"Using Secure Links\"**: Look for the secure links section\n",
    "4. **Click Port 6066 Link**: Click on the link corresponding to port 6066 to open TensorBoard\n",
    "\n",
    "> **Note**: If you see connection timeout errors in the notebook cell output above, you can safely ignore them. TensorBoard is still running and accessible through the browser link.\n",
    "\n",
    "Once you access TensorBoard through your browser, you'll be able to monitor your GRPO training progress in real-time!\n",
    "\n",
    "---\n",
    "\n",
    "*This cell is formatted as markdown to properly display the TensorBoard browser access image.*\n"
   ]
  },
  {
   "cell_type": "markdown",
   "id": "ad7bf096-d4b1-4fdc-9a2d-9092469e63fe",
   "metadata": {},
   "source": [
    "## 📊 Understanding TensorBoard Metrics for GRPO\n",
    "\n",
    "Refer to the `Monitoring Training with TensorBoard` section of notebook `1.grpo_training_nemo_rl` for the metrics to monitor during the training.\n"
   ]
  },
  {
   "cell_type": "code",
   "execution_count": null,
   "id": "f7150927-a5e4-4aae-bedf-f52d72b8250a",
   "metadata": {},
   "outputs": [],
   "source": []
  }
 ],
 "metadata": {
  "kernelspec": {
   "display_name": "Python 3 (ipykernel)",
   "language": "python",
   "name": "python3"
  },
  "language_info": {
   "codemirror_mode": {
    "name": "ipython",
    "version": 3
   },
   "file_extension": ".py",
   "mimetype": "text/x-python",
   "name": "python",
   "nbconvert_exporter": "python",
   "pygments_lexer": "ipython3",
   "version": "3.10.13"
  }
 },
 "nbformat": 4,
 "nbformat_minor": 5
}
