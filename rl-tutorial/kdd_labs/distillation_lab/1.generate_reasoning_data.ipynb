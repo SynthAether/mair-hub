{
 "cells": [
  {
   "cell_type": "markdown",
   "metadata": {},
   "source": [
    "# Distill Reasoning Data from DeepSeek-R1\n",
    "\n",
    "In the field of LLMs, reasoning models leverage deep thinking capabilities to significantly enhance model performance across complex scenarios. According to the [DeepSeek-R1](https://arxiv.org/abs/2501.12948) paper, the reasoning pattern of larger models can be distilled into smaller models. Specifically, we can distill long-chain-of-thought (long-CoT) data that includes reasoning processes from DeepSeek-R1 and directly fine-tune open-source models like Qwen and Llama. This straightforward distillation method significantly enhances the reasoning abilities of smaller models.\n",
    "\n",
    "\n",
    "To demonstrate the complete distillation process, we have prepared three notebooks that cover how to distill reasoning data from DeepSeek-R1 using the NIM API, how to train models using the distilled data, and how to evaluate the model.\n",
    "\n",
    "\n",
    "- [1.generate_reasoning_data.ipynb](./1.generate_reasoning_data.ipynb) (⭐) demonstrates how to distill reasoning data from DeepSeek-R1 using the NIM API. \n",
    "- [2.qwen2_distill_nemo.ipynb](./2.qwen2_distill_nemo.ipynb) shows how to train open-source models using the distilled data.\n",
    "- [3.evaluation.ipynb](./3.evaluation.ipynb) shows how the evaluate the model.\n",
    "\n",
    "\n",
    "This tutorial is part 1 of the series, and it will demonstrate how to distill reasoning data from the DeepSeek-R1 model using NVIDIA NIM.\n",
    "\n",
    "Prerequisites:\n",
    "- Obtain an NVIDIA API Key (visit [build.nvidia.com](https://build.nvidia.com/explore/discover) for details)\n",
    "\n",
    "This notebook contains three steps:\n",
    "1. Prepare the raw dataset\n",
    "2. Distill reasoning data from DeepSeek-R1 using NVIDIA NIM API\n",
    "3. Post-process the distilled data"
   ]
  },
  {
   "cell_type": "code",
   "execution_count": 1,
   "metadata": {},
   "outputs": [
    {
     "name": "stdout",
     "output_type": "stream",
     "text": [
      "\u001b[33mDEPRECATION: Loading egg at /usr/local/lib/python3.12/dist-packages/lightning_thunder-0.2.0.dev0-py3.12.egg is deprecated. pip 25.1 will enforce this behaviour change. A possible replacement is to use pip for package installation. Discussion can be found at https://github.com/pypa/pip/issues/12330\u001b[0m\u001b[33m\n",
      "\u001b[0m\u001b[33mDEPRECATION: Loading egg at /usr/local/lib/python3.12/dist-packages/lightning_utilities-0.12.0.dev0-py3.12.egg is deprecated. pip 25.1 will enforce this behaviour change. A possible replacement is to use pip for package installation. Discussion can be found at https://github.com/pypa/pip/issues/12330\u001b[0m\u001b[33m\n",
      "\u001b[0m\u001b[33mDEPRECATION: Loading egg at /usr/local/lib/python3.12/dist-packages/looseversion-1.3.0-py3.12.egg is deprecated. pip 25.1 will enforce this behaviour change. A possible replacement is to use pip for package installation. Discussion can be found at https://github.com/pypa/pip/issues/12330\u001b[0m\u001b[33m\n",
      "\u001b[0m\u001b[33mDEPRECATION: Loading egg at /usr/local/lib/python3.12/dist-packages/nvfuser-0.2.23a0+6627725-py3.12-linux-x86_64.egg is deprecated. pip 25.1 will enforce this behaviour change. A possible replacement is to use pip for package installation. Discussion can be found at https://github.com/pypa/pip/issues/12330\u001b[0m\u001b[33m\n",
      "\u001b[0m\u001b[33mDEPRECATION: Loading egg at /usr/local/lib/python3.12/dist-packages/opt_einsum-3.4.0-py3.12.egg is deprecated. pip 25.1 will enforce this behaviour change. A possible replacement is to use pip for package installation. Discussion can be found at https://github.com/pypa/pip/issues/12330\u001b[0m\u001b[33m\n",
      "\u001b[0mLooking in indexes: https://pypi.org/simple, https://pypi.ngc.nvidia.com\n",
      "Requirement already satisfied: openai in /usr/local/lib/python3.12/dist-packages (1.61.0)\n",
      "Collecting math_verify\n",
      "  Downloading math_verify-0.8.0-py3-none-any.whl.metadata (1.6 kB)\n",
      "Requirement already satisfied: datasets in /usr/local/lib/python3.12/dist-packages (3.2.0)\n",
      "Requirement already satisfied: anyio<5,>=3.5.0 in /usr/local/lib/python3.12/dist-packages (from openai) (4.8.0)\n",
      "Requirement already satisfied: distro<2,>=1.7.0 in /usr/local/lib/python3.12/dist-packages (from openai) (1.9.0)\n",
      "Requirement already satisfied: httpx<1,>=0.23.0 in /usr/local/lib/python3.12/dist-packages (from openai) (0.28.1)\n",
      "Requirement already satisfied: jiter<1,>=0.4.0 in /usr/local/lib/python3.12/dist-packages (from openai) (0.8.2)\n",
      "Requirement already satisfied: pydantic<3,>=1.9.0 in /usr/local/lib/python3.12/dist-packages (from openai) (2.10.5)\n",
      "Requirement already satisfied: sniffio in /usr/local/lib/python3.12/dist-packages (from openai) (1.3.1)\n",
      "Requirement already satisfied: tqdm>4 in /usr/local/lib/python3.12/dist-packages (from openai) (4.67.1)\n",
      "Requirement already satisfied: typing-extensions<5,>=4.11 in /usr/local/lib/python3.12/dist-packages (from openai) (4.12.2)\n",
      "Collecting latex2sympy2_extended==1.10.2 (from math_verify)\n",
      "  Downloading latex2sympy2_extended-1.10.2-py3-none-any.whl.metadata (5.3 kB)\n",
      "Requirement already satisfied: sympy in /usr/local/lib/python3.12/dist-packages (from latex2sympy2_extended==1.10.2->math_verify) (1.13.1)\n",
      "Requirement already satisfied: antlr4-python3-runtime<=4.13.2,>=4.9.3 in /usr/local/lib/python3.12/dist-packages (from latex2sympy2_extended==1.10.2->math_verify) (4.9.3)\n",
      "Requirement already satisfied: filelock in /usr/local/lib/python3.12/dist-packages (from datasets) (3.16.1)\n",
      "Requirement already satisfied: numpy>=1.17 in /usr/local/lib/python3.12/dist-packages (from datasets) (1.26.4)\n",
      "Requirement already satisfied: pyarrow>=15.0.0 in /usr/local/lib/python3.12/dist-packages (from datasets) (15.0.2)\n",
      "Requirement already satisfied: dill<0.3.9,>=0.3.0 in /usr/local/lib/python3.12/dist-packages (from datasets) (0.3.8)\n",
      "Requirement already satisfied: pandas in /usr/local/lib/python3.12/dist-packages (from datasets) (2.2.2)\n",
      "Requirement already satisfied: requests>=2.32.2 in /usr/local/lib/python3.12/dist-packages (from datasets) (2.32.3)\n",
      "Requirement already satisfied: xxhash in /usr/local/lib/python3.12/dist-packages (from datasets) (3.5.0)\n",
      "Requirement already satisfied: multiprocess<0.70.17 in /usr/local/lib/python3.12/dist-packages (from datasets) (0.70.16)\n",
      "Requirement already satisfied: fsspec<=2024.9.0,>=2023.1.0 in /usr/local/lib/python3.12/dist-packages (from fsspec[http]<=2024.9.0,>=2023.1.0->datasets) (2024.9.0)\n",
      "Requirement already satisfied: aiohttp in /usr/local/lib/python3.12/dist-packages (from datasets) (3.11.10)\n",
      "Requirement already satisfied: huggingface-hub>=0.23.0 in /usr/local/lib/python3.12/dist-packages (from datasets) (0.28.1)\n",
      "Requirement already satisfied: packaging in /usr/local/lib/python3.12/dist-packages (from datasets) (23.2)\n",
      "Requirement already satisfied: pyyaml>=5.1 in /usr/local/lib/python3.12/dist-packages (from datasets) (6.0.2)\n",
      "Requirement already satisfied: idna>=2.8 in /usr/local/lib/python3.12/dist-packages (from anyio<5,>=3.5.0->openai) (3.10)\n",
      "Requirement already satisfied: aiohappyeyeballs>=2.3.0 in /usr/local/lib/python3.12/dist-packages (from aiohttp->datasets) (2.4.4)\n",
      "Requirement already satisfied: aiosignal>=1.1.2 in /usr/local/lib/python3.12/dist-packages (from aiohttp->datasets) (1.3.2)\n",
      "Requirement already satisfied: attrs>=17.3.0 in /usr/local/lib/python3.12/dist-packages (from aiohttp->datasets) (24.2.0)\n",
      "Requirement already satisfied: frozenlist>=1.1.1 in /usr/local/lib/python3.12/dist-packages (from aiohttp->datasets) (1.5.0)\n",
      "Requirement already satisfied: multidict<7.0,>=4.5 in /usr/local/lib/python3.12/dist-packages (from aiohttp->datasets) (6.1.0)\n",
      "Requirement already satisfied: propcache>=0.2.0 in /usr/local/lib/python3.12/dist-packages (from aiohttp->datasets) (0.2.1)\n",
      "Requirement already satisfied: yarl<2.0,>=1.17.0 in /usr/local/lib/python3.12/dist-packages (from aiohttp->datasets) (1.18.3)\n",
      "Requirement already satisfied: certifi in /usr/local/lib/python3.12/dist-packages (from httpx<1,>=0.23.0->openai) (2024.12.14)\n",
      "Requirement already satisfied: httpcore==1.* in /usr/local/lib/python3.12/dist-packages (from httpx<1,>=0.23.0->openai) (1.0.7)\n",
      "Requirement already satisfied: h11<0.15,>=0.13 in /usr/local/lib/python3.12/dist-packages (from httpcore==1.*->httpx<1,>=0.23.0->openai) (0.14.0)\n",
      "Requirement already satisfied: annotated-types>=0.6.0 in /usr/local/lib/python3.12/dist-packages (from pydantic<3,>=1.9.0->openai) (0.7.0)\n",
      "Requirement already satisfied: pydantic-core==2.27.2 in /usr/local/lib/python3.12/dist-packages (from pydantic<3,>=1.9.0->openai) (2.27.2)\n",
      "Requirement already satisfied: charset-normalizer<4,>=2 in /usr/local/lib/python3.12/dist-packages (from requests>=2.32.2->datasets) (3.4.1)\n",
      "Requirement already satisfied: urllib3<3,>=1.21.1 in /usr/local/lib/python3.12/dist-packages (from requests>=2.32.2->datasets) (1.26.20)\n",
      "Requirement already satisfied: python-dateutil>=2.8.2 in /usr/local/lib/python3.12/dist-packages (from pandas->datasets) (2.9.0.post0)\n",
      "Requirement already satisfied: pytz>=2020.1 in /usr/local/lib/python3.12/dist-packages (from pandas->datasets) (2023.4)\n",
      "Requirement already satisfied: tzdata>=2022.7 in /usr/local/lib/python3.12/dist-packages (from pandas->datasets) (2024.2)\n",
      "Requirement already satisfied: six>=1.5 in /usr/local/lib/python3.12/dist-packages (from python-dateutil>=2.8.2->pandas->datasets) (1.16.0)\n",
      "Requirement already satisfied: mpmath<1.4,>=1.1.0 in /usr/local/lib/python3.12/dist-packages (from sympy->latex2sympy2_extended==1.10.2->math_verify) (1.3.0)\n",
      "Downloading math_verify-0.8.0-py3-none-any.whl (29 kB)\n",
      "Downloading latex2sympy2_extended-1.10.2-py3-none-any.whl (207 kB)\n",
      "Installing collected packages: latex2sympy2_extended, math_verify\n",
      "Successfully installed latex2sympy2_extended-1.10.2 math_verify-0.8.0\n",
      "\u001b[33mWARNING: Running pip as the 'root' user can result in broken permissions and conflicting behaviour with the system package manager, possibly rendering your system unusable.It is recommended to use a virtual environment instead: https://pip.pypa.io/warnings/venv. Use the --root-user-action option if you know what you are doing and want to suppress this warning.\u001b[0m\u001b[33m\n",
      "\u001b[0m\n",
      "\u001b[1m[\u001b[0m\u001b[34;49mnotice\u001b[0m\u001b[1;39;49m]\u001b[0m\u001b[39;49m A new release of pip is available: \u001b[0m\u001b[31;49m24.3.1\u001b[0m\u001b[39;49m -> \u001b[0m\u001b[32;49m25.1.1\u001b[0m\n",
      "\u001b[1m[\u001b[0m\u001b[34;49mnotice\u001b[0m\u001b[1;39;49m]\u001b[0m\u001b[39;49m To update, run: \u001b[0m\u001b[32;49mpip install --upgrade pip\u001b[0m\n",
      "Note: you may need to restart the kernel to use updated packages.\n"
     ]
    }
   ],
   "source": [
    "%pip install openai math_verify datasets"
   ]
  },
  {
   "cell_type": "code",
   "execution_count": 1,
   "metadata": {},
   "outputs": [
    {
     "name": "stdout",
     "output_type": "stream",
     "text": [
      "env: NVIDIA_API_KEY=nvapi-xxxxxxxxxx\n"
     ]
    }
   ],
   "source": [
    "%env NVIDIA_API_KEY=nvapi-xxxxxxxxxx"
   ]
  },
  {
   "cell_type": "markdown",
   "metadata": {},
   "source": [
    "## Step 1: Prepare Dataset\n",
    "\n",
    "During the training process of DeepSeek-R1-Zero, DeepSeek mentioned they used data from math, code, science, and logic domains. However, since they haven't disclosed the specific data sources, we will use open-source datasets as examples.\n",
    "\n",
    "In the following code, we will use the [open-r1/OpenR1-Math-220k](https://huggingface.co/datasets/open-r1/OpenR1-Math-220k) from HuggingFace. \n",
    "\n",
    "You can also create your own dataset, but it's best to align with the example dataset's format, ensuring each entry contains both a `question` and an `answer`."
   ]
  },
  {
   "cell_type": "code",
   "execution_count": 3,
   "metadata": {},
   "outputs": [
    {
     "name": "stderr",
     "output_type": "stream",
     "text": [
      "/usr/local/lib/python3.12/dist-packages/tqdm/auto.py:21: TqdmWarning: IProgress not found. Please update jupyter and ipywidgets. See https://ipywidgets.readthedocs.io/en/stable/user_install.html\n",
      "  from .autonotebook import tqdm as notebook_tqdm\n",
      "Generating train split: 100%|██████████| 93733/93733 [00:15<00:00, 6142.21 examples/s]"
     ]
    },
    {
     "name": "stdout",
     "output_type": "stream",
     "text": [
      "Dataset size: 93733\n",
      "===== Problem 1 =====\n",
      "## Task B-1.3.\n",
      "\n",
      "A ship traveling along a river has covered $24 \\mathrm{~km}$ upstream and $28 \\mathrm{~km}$ downstream. For this journey, it took half an hour less than for traveling $30 \\mathrm{~km}$ upstream and $21 \\mathrm{~km}$ downstream, or half an hour more than for traveling $15 \\mathrm{~km}$ upstream and $42 \\mathrm{~km}$ downstream, assuming that both the ship and the river move uniformly.\n",
      "\n",
      "Determine the speed of the ship in still water and the speed of the river.\n",
      "===== Answer 1 =====\n",
      "v_{R}=4\\mathrm{~}/\\mathrm{},v_{B}=10\\mathrm{~}/\\mathrm{}\n",
      "\n",
      "\n",
      "===== Problem 2 =====\n",
      "3. (6 points) A construction company was building a tunnel. When $\\frac{1}{3}$ of the tunnel was completed at the original speed, they started using new equipment, which increased the construction speed by $20 \\%$ and reduced the working hours to $80 \\%$ of the original. As a result, it took a total of 185 days to complete the tunnel. If they had not used the new equipment and continued at the original speed, it would have taken $\\qquad$ days to complete the tunnel.\n",
      "===== Answer 2 =====\n",
      "180\n",
      "\n",
      "\n",
      "===== Problem 3 =====\n",
      "Prove that number $1$ can be represented as a sum of a finite number $n$ of real numbers, less than $1,$ not necessarily  distinct, which contain in their decimal representation only the digits $0$ and/or $7.$ Which is the least possible number $n$?\n",
      "===== Answer 3 =====\n",
      " 8 \n",
      "\n",
      "\n"
     ]
    },
    {
     "name": "stderr",
     "output_type": "stream",
     "text": [
      "\n"
     ]
    }
   ],
   "source": [
    "from datasets import load_dataset\n",
    "\n",
    "dataset = load_dataset(\"open-r1/OpenR1-Math-220k\", split=\"train\")\n",
    "\n",
    "print(f\"Dataset size: {len(dataset)}\")\n",
    "\n",
    "# Print the first few examples\n",
    "for i, example in enumerate(dataset.select(range(3))):\n",
    "    print(f\"===== Problem {i+1} =====\")\n",
    "    print(example[\"problem\"])\n",
    "    print(f\"===== Answer {i+1} =====\")\n",
    "    print(example[\"answer\"])\n",
    "    print(\"\\n\")"
   ]
  },
  {
   "cell_type": "markdown",
   "metadata": {},
   "source": [
    "## Step 2: Distill Reasoning Data from DeepSeek-R1 Using NVIDIA NIM API\n",
    "\n",
    "DeepSeek recommends adhering to the following configurations when running inference the DeepSeek-R1 series of models, including benchmarking, to achieve the expected performance:\n",
    "\n",
    "- Set the temperature within the range of 0.5-0.7 (0.6 is recommended) to prevent endless repetitions or incoherent outputs.\n",
    "- Avoid adding a system prompt; all instructions should be contained within the user prompt.\n",
    "- For mathematical problems, it is advisable to include a directive in your prompt such as: \"Please reason step by step, and put your final answer within \\boxed{}.\""
   ]
  },
  {
   "cell_type": "markdown",
   "metadata": {},
   "source": [
    "This cell configures the NIM client and runs a basic distillation test. "
   ]
  },
  {
   "cell_type": "code",
   "execution_count": 4,
   "metadata": {},
   "outputs": [],
   "source": [
    "import os\n",
    "from openai import OpenAI\n",
    "\n",
    "client = OpenAI(\n",
    "  base_url = \"https://integrate.api.nvidia.com/v1\",\n",
    "  api_key = os.getenv(\"NVIDIA_API_KEY\")\n",
    ")"
   ]
  },
  {
   "cell_type": "code",
   "execution_count": 5,
   "metadata": {},
   "outputs": [
    {
     "name": "stdout",
     "output_type": "stream",
     "text": [
      "<think>\n",
      "Okay, so I need to figure out which number is larger between 9.11 and 9.8. Let me start by writing both numbers down to see them clearly: 9.11 and 9.8. Hmm, both are decimals, but they have a different number of digits after the decimal point. Maybe I should compare them place by place.\n",
      "\n",
      "First, let me look at the whole number part. Both numbers have 9 as the whole number, so that part is equal. Now, moving on to the decimal parts. For 9.11, the first decimal place is 1, and for 9.8, the first decimal place is 8. Wait, but 9.8 is the same as 9.80, right? Because adding a zero at the end of a decimal doesn't change its value. So if I rewrite 9.8 as 9.80, then both numbers have two decimal places, which might make it easier to compare.\n",
      "\n",
      "So now we have 9.11 and 9.80. Comparing the tenths place: 1 versus 8. Since 1 is less than 8, does that mean 9.11 is less than 9.80? Let me check that again. The tenths place is the first digit after the decimal, which represents tenths. So 0.1 versus 0.8. Yes, 0.1 is definitely less than 0.8. Then, even if the hundredths place in 9.11 is 1, it's only 0.01, whereas in 9.80, the hundredths place is 0. So adding those up, 9.11 is 9 + 0.1 + 0.01 = 9.11, and 9.80 is 9 + 0.8 + 0.00 = 9.80. \n",
      "\n",
      "But maybe another way to think about it is to convert both numbers to fractions or to the same denominator. Let's try converting them to fractions. \n",
      "\n",
      "9.11 can be written as 9 + 11/100, which is 9 11/100. Similarly, 9.8 is 9 + 8/10, which is 9 8/10. To compare these fractions, I need a common denominator. The denominators here are 100 and 10. The least common denominator is 100. So converting 8/10 to hundredths: 8/10 = 80/100. So 9.8 is 9 80/100. Comparing 9 11/100 and 9 80/100, clearly 80/100 is larger than 11/100. Therefore, 9.8 is larger than 9.11.\n",
      "\n",
      "Alternatively, if I subtract the two numbers to see which is bigger: 9.8 minus 9.11. Let's do that subtraction. \n",
      "\n",
      "9.80\n",
      "-9.11\n",
      "------\n",
      "0.69\n",
      "\n",
      "Since the result is positive, 9.8 is larger than 9.11 by 0.69. \n",
      "\n",
      "Wait, another way to verify is to think in terms of money. If these were amounts of money, $9.11 versus $9.80. Which is more? $9.80 is 9 dollars and 80 cents, while $9.11 is 9 dollars and 11 cents. Definitely, 80 cents is more than 11 cents, so $9.80 is more. \n",
      "\n",
      "Or maybe using a number line. If I imagine a number line with 9.0, 9.1, 9.2 up to 10.0. 9.11 is just a little past 9.1, while 9.8 is much further along, close to 10.0. So 9.8 is definitely to the right of 9.11 on the number line, which means it's larger.\n",
      "\n",
      "Is there any chance I might have mixed up the decimal places? For example, maybe confusing tenths and hundredths? Let me double-check. The first decimal place is tenths (1/10), the second is hundredths (1/100). So in 9.11, the first 1 is tenths (0.1) and the second 1 is hundredths (0.01). In 9.8, which is 9.80, the 8 is in the tenths place (0.8) and the 0 is in the hundredths place (0.00). So comparing tenths: 0.1 vs 0.8. Since 0.8 is larger, 9.8 is larger regardless of the hundredths place. Because even if the tenths place was equal, we would then look at the hundredths, but here the tenths already determine the larger number.\n",
      "\n",
      "Another angle: if I convert both numbers to percents. 9.11 as a percent would be 911%, and 9.8 as a percent would be 980%. Comparing 911% and 980%, clearly 980% is larger. So that confirms it again.\n",
      "\n",
      "Alternatively, multiplying both numbers by 100 to eliminate decimals. 9.11 * 100 = 911, and 9.8 * 100 = 980. Then compare 911 and 980. 980 is larger, so 9.8 is larger.\n",
      "\n",
      "Wait, but why did I even think there might be confusion? Maybe because 9.11 has two digits after the decimal and 9.8 only has one. But when we write 9.8 as 9.80, it's clear. Maybe some people might think more digits after decimal means a larger number, but that's not true. For example, 0.9 is larger than 0.8999 because the tenths place is higher. So even though 0.8999 has more digits, it's still smaller. So in this case, same thing. 9.8 is 9.80, which is larger than 9.11.\n",
      "\n",
      "So all methods point to 9.8 being larger than 9.11. Therefore, the answer should be 9.8 is the larger number.\n",
      "\n",
      "**Final Answer**\n",
      "The larger number is \\boxed{9.8}.\n",
      "</think>\n",
      "\n",
      "To determine which number is larger between 9.11 and 9.8, we start by comparing their whole number parts, which are both 9. Next, we compare the decimal parts. \n",
      "\n",
      "Rewriting 9.8 as 9.80 to have the same number of decimal places as 9.11, we get:\n",
      "- 9.11\n",
      "- 9.80\n",
      "\n",
      "Comparing the tenths place (the first decimal digit):\n",
      "- 9.11 has 1 in the tenths place.\n",
      "- 9.80 has 8 in the tenths place.\n",
      "\n",
      "Since 8 is greater than 1, 9.80 is larger than 9.11. This can be confirmed by converting both numbers to fractions with a common denominator, subtracting them, or using other methods like comparing them as money or on a number line. All methods consistently show that 9.8 is larger than 9.11.\n",
      "\n",
      "\\[\n",
      "\\boxed{9.8}\n",
      "\\]"
     ]
    }
   ],
   "source": [
    "# A simple test case\n",
    "problem = \"which number is larger, 9.11 or 9.8?\"\n",
    "completion = client.chat.completions.create(\n",
    "    model=\"deepseek-ai/deepseek-r1\",\n",
    "    messages=[{\"role\": \"user\", \"content\": f\"Please reason step by step, and put your final answer within \\\\boxed{{}}. {problem}\"}],\n",
    "    temperature=0.6,\n",
    "    top_p=0.7,\n",
    "    max_tokens=32768,\n",
    "    timeout=1000,\n",
    "    stream=True\n",
    ")\n",
    "\n",
    "for chunk in completion:\n",
    "    if chunk.choices[0].delta.content is not None:\n",
    "        print(chunk.choices[0].delta.content, end=\"\")"
   ]
  },
  {
   "cell_type": "markdown",
   "metadata": {},
   "source": [
    "Now, we're ready to generate reasoning traces using DeepSeek-R1 for the entire dataset."
   ]
  },
  {
   "cell_type": "code",
   "execution_count": 8,
   "metadata": {},
   "outputs": [],
   "source": [
    "# The prompt template recommended by DeepSeek for math problems\n",
    "PROMPT_TEMPLATE = \"Please reason step by step, and put your final answer within \\\\boxed{{}}. {problem}\"\n",
    "\n",
    "def process_streaming_response(completion):\n",
    "    \"\"\"Process the streaming response from the R1 model\"\"\"\n",
    "    reasoning_trace = \"\"\n",
    "    try:\n",
    "        for chunk in completion:\n",
    "            if chunk.choices[0].delta.content is not None:\n",
    "                reasoning_trace += chunk.choices[0].delta.content\n",
    "        return reasoning_trace\n",
    "    except Exception as e:\n",
    "        print(f\"Error occurred: {e}\")\n",
    "        return reasoning_trace\n",
    "\n",
    "def distill_data_from_r1(example):\n",
    "    problem = example[\"problem\"]\n",
    "    completion = client.chat.completions.create(\n",
    "        model=\"deepseek-ai/deepseek-r1\",\n",
    "        messages=[{\"role\": \"user\", \"content\": PROMPT_TEMPLATE.format(problem=problem)}],\n",
    "        temperature=0.6,\n",
    "        top_p=0.7,\n",
    "        max_tokens=32768,\n",
    "        timeout=10000,\n",
    "        stream=True\n",
    "    )\n",
    "    \n",
    "    reasoning_trace = process_streaming_response(completion)\n",
    "    return {**example, \"reasoning_trace\": reasoning_trace}"
   ]
  },
  {
   "cell_type": "code",
   "execution_count": 13,
   "metadata": {},
   "outputs": [
    {
     "name": "stderr",
     "output_type": "stream",
     "text": [
      "Distilling reasoning traces from R1:   0%|          | 0/2 [00:00<?, ? examples/s]"
     ]
    },
    {
     "name": "stderr",
     "output_type": "stream",
     "text": [
      "Distilling reasoning traces from R1: 100%|██████████| 2/2 [03:28<00:00, 104.25s/ examples]\n"
     ]
    }
   ],
   "source": [
    "# To speed up the process, we only use 2 examples here\n",
    "sample_dataset = dataset.select(range(2))\n",
    "\n",
    "# You can set num_proc to speed up the process\n",
    "sample_dataset = sample_dataset.map(distill_data_from_r1, num_proc=1, desc=\"Distilling reasoning traces from R1\")"
   ]
  },
  {
   "cell_type": "code",
   "execution_count": 14,
   "metadata": {},
   "outputs": [
    {
     "data": {
      "text/plain": [
       "['<think>\\nOkay, let\\'s see. I need to find the speed of the ship in still water and the speed of the river. Hmm, so these are two variables. Let me call the ship\\'s speed in still water \"v\" and the river\\'s speed \"u\". Then, when the ship is going upstream, its effective speed would be v - u, and downstream it would be v + u. Right?\\n\\nThe problem mentions two different journeys. The first one is covering 24 km upstream and 28 km downstream, taking half an hour less than another journey which is 30 km upstream and 21 km downstream. Also, the first journey takes half an hour more than a third journey which is 15 km upstream and 42 km downstream. \\n\\nSo, I need to set up equations based on the time differences. Time is distance divided by speed. Let me write down the times for each journey.\\n\\nFirst journey: 24/(v - u) + 28/(v + u)\\nSecond journey: 30/(v - u) + 21/(v + u)\\nThird journey: 15/(v - u) + 42/(v + u)\\n\\nAccording to the problem, the time for the first journey is half an hour less than the second journey. So:\\n\\n24/(v - u) + 28/(v + u) = 30/(v - u) + 21/(v + u) - 0.5\\n\\nSimilarly, the time for the first journey is half an hour more than the third journey:\\n\\n24/(v - u) + 28/(v + u) = 15/(v - u) + 42/(v + u) + 0.5\\n\\nSo now I have two equations with two variables. Let me try to simplify these equations.\\n\\nStarting with the first equation:\\n\\n24/(v - u) + 28/(v + u) = 30/(v - u) + 21/(v + u) - 0.5\\n\\nSubtracting 24/(v - u) and 28/(v + u) from both sides:\\n\\n0 = (30 - 24)/(v - u) + (21 - 28)/(v + u) - 0.5\\n\\nWhich simplifies to:\\n\\n0 = 6/(v - u) - 7/(v + u) - 0.5\\n\\nSimilarly, for the second equation:\\n\\n24/(v - u) + 28/(v + u) = 15/(v - u) + 42/(v + u) + 0.5\\n\\nSubtracting 15/(v - u) and 42/(v + u) from both sides:\\n\\n24/(v - u) - 15/(v - u) + 28/(v + u) - 42/(v + u) = 0.5\\n\\nWhich simplifies to:\\n\\n9/(v - u) - 14/(v + u) = 0.5\\n\\nSo now I have two equations:\\n\\n1) 6/(v - u) - 7/(v + u) = 0.5\\n\\n2) 9/(v - u) - 14/(v + u) = 0.5\\n\\nHmm, these look similar. Maybe I can let x = 1/(v - u) and y = 1/(v + u). Then the equations become:\\n\\n1) 6x - 7y = 0.5\\n\\n2) 9x - 14y = 0.5\\n\\nNow, I can solve this system of linear equations. Let\\'s use the elimination method.\\n\\nMultiply the first equation by 2:\\n\\n12x - 14y = 1\\n\\nSubtract the second equation from this:\\n\\n(12x - 14y) - (9x - 14y) = 1 - 0.5\\n\\nWhich simplifies to:\\n\\n3x = 0.5\\n\\nSo x = 0.5 / 3 = 1/6\\n\\nNow plug x = 1/6 into the first equation:\\n\\n6*(1/6) - 7y = 0.5\\n\\n1 - 7y = 0.5\\n\\nSubtract 1:\\n\\n-7y = -0.5\\n\\nDivide by -7:\\n\\ny = (-0.5)/(-7) = 0.5/7 = 1/14\\n\\nSo x = 1/6 and y = 1/14\\n\\nBut x = 1/(v - u) = 1/6, so v - u = 6\\n\\nSimilarly, y = 1/(v + u) = 1/14, so v + u = 14\\n\\nNow we have:\\n\\nv - u = 6\\n\\nv + u = 14\\n\\nAdding these two equations:\\n\\n2v = 20 => v = 10\\n\\nSubtracting the first equation from the second:\\n\\n2u = 8 => u = 4\\n\\nSo the speed of the ship in still water is 10 km/h and the speed of the river is 4 km/h.\\n\\nWait, let me check if these values satisfy the original equations.\\n\\nFirst journey time: 24/(10 - 4) + 28/(10 + 4) = 24/6 + 28/14 = 4 + 2 = 6 hours\\n\\nSecond journey time: 30/(6) + 21/14 = 5 + 1.5 = 6.5 hours. The first journey is 6 hours, which is 0.5 hours less than 6.5. That checks out.\\n\\nThird journey time: 15/6 + 42/14 = 2.5 + 3 = 5.5 hours. The first journey is 6 hours, which is 0.5 hours more than 5.5. That also checks out.\\n\\nSo the answer is ship speed 10 km/h, river speed 4 km/h.\\n\\n**Final Answer**\\nThe speed of the ship in still water is \\\\boxed{10} km/h and the speed of the river is \\\\boxed{4} km/h.\\n</think>\\n\\nLet \\\\( v \\\\) be the speed of the ship in still water (in km/h) and \\\\( u \\\\) be the speed of the river (in km/h). The effective speed of the ship upstream is \\\\( v - u \\\\) and downstream is \\\\( v + u \\\\).\\n\\nWe are given three journeys with the following time relationships:\\n1. The journey covering 24 km upstream and 28 km downstream takes half an hour less than the journey covering 30 km upstream and 21 km downstream.\\n2. The same journey takes half an hour more than the journey covering 15 km upstream and 42 km downstream.\\n\\nWe set up the equations for the times taken for each journey:\\n1. \\\\( \\\\frac{24}{v - u} + \\\\frac{28}{v + u} = \\\\frac{30}{v - u} + \\\\frac{21}{v + u} - 0.5 \\\\)\\n2. \\\\( \\\\frac{24}{v - u} + \\\\frac{28}{v + u} = \\\\frac{15}{v - u} + \\\\frac{42}{v + u} + 0.5 \\\\)\\n\\nIntroducing \\\\( x = \\\\frac{1}{v - u} \\\\) and \\\\( y = \\\\frac{1}{v + u} \\\\), we convert these equations into linear form:\\n1. \\\\( 6x - 7y = 0.5 \\\\)\\n2. \\\\( 9x - 14y = 0.5 \\\\)\\n\\nSolving these equations using the elimination method:\\n1. Multiply the first equation by 2: \\\\( 12x - 14y = 1 \\\\)\\n2. Subtract the second equation from this result: \\\\( 3x = 0.5 \\\\) leading to \\\\( x = \\\\frac{1}{6} \\\\)\\n3. Substitute \\\\( x = \\\\frac{1}{6} \\\\) into the first equation: \\\\( 1 - 7y = 0.5 \\\\) leading to \\\\( y = \\\\frac{1}{14} \\\\)\\n\\nConverting back to \\\\( v \\\\) and \\\\( u \\\\):\\n- \\\\( v - u = 6 \\\\)\\n- \\\\( v + u = 14 \\\\)\\n\\nSolving these equations:\\n- Adding them: \\\\( 2v = 20 \\\\) gives \\\\( v = 10 \\\\)\\n- Subtracting them: \\\\( 2u = 8 \\\\) gives \\\\( u = 4 \\\\)\\n\\nVerification:\\n- First journey time: \\\\( \\\\frac{24}{6} + \\\\frac{28}{14} = 4 + 2 = 6 \\\\) hours\\n- Second journey time: \\\\( \\\\frac{30}{6} + \\\\frac{21}{14} = 5 + 1.5 = 6.5 \\\\) hours (0.5 hours more)\\n- Third journey time: \\\\( \\\\frac{15}{6} + \\\\frac{42}{14} = 2.5 + 3 = 5.5 \\\\) hours (0.5 hours less)\\n\\nThus, the speed of the ship in still water is \\\\(\\\\boxed{10}\\\\) km/h and the speed of the river is \\\\(\\\\boxed{4}\\\\) km/h.',\n",
       " '<think>\\nOkay, let\\'s see. So, the problem is about a construction company building a tunnel. They completed the first 1/3 of the tunnel at the original speed. Then they started using new equipment, which increased their speed by 20% and reduced their working hours to 80% of the original. The total time taken was 185 days. We need to find out how many days it would have taken if they didn\\'t use the new equipment and continued at the original speed.\\n\\nHmm. Let me break this down. Let\\'s denote the original speed as S. The original working hours per day as H. The total length of the tunnel as L. We need to find the total time T if they continued at the original speed.\\n\\nFirst, when they built the first 1/3 of the tunnel, they were working at speed S. Let\\'s figure out how long that took. The length for the first part is (1/3)L. Time is equal to distance divided by speed, but here speed is in terms of length per day. Wait, actually, maybe we need to think in terms of daily progress.\\n\\nWait, maybe it\\'s better to think in terms of time taken. Let me define variables more carefully.\\n\\nLet’s let the original speed be S (in tunnel length per day). The original working hours per day is H hours. When they switch to new equipment, their speed increases by 20%, so the new speed is 1.2S. But their working hours are reduced to 80% of the original, so new working hours per day is 0.8H.\\n\\nBut how does working hours affect the daily progress? If they work fewer hours per day, even if their speed is higher, the daily progress would be speed multiplied by hours. Wait, but speed is already in tunnel length per day. Hmm, maybe I need to adjust for the working hours.\\n\\nWait, perhaps speed is in tunnel length per hour. Then original speed is S length per hour. Then original daily progress would be S*H. With the new equipment, speed becomes 1.2S per hour, and working hours become 0.8H. So new daily progress is 1.2S * 0.8H = 0.96SH. Wait, that\\'s actually a decrease in daily progress. But the problem says \"increased the construction speed by 20% and reduced the working hours to 80% of the original\". So maybe the speed increase is per hour, and the working hours per day are reduced. So the total daily progress is 1.2 * 0.8 = 0.96 times original daily progress. So actually, the daily progress decreased? That seems counterintuitive, but maybe that\\'s the case.\\n\\nWait, but the problem says \"increased the construction speed by 20%\", so maybe the speed is per day? If the original speed was S per day, then increasing it by 20% would make it 1.2S per day. But then working hours are reduced to 80% of original. If the original working hours were H per day, then new working hours are 0.8H per day. But how does working hours affect the speed? If speed is per day, then working hours per day is part of the definition of speed. So maybe the original speed S is in tunnel length per day, assuming a certain number of working hours per day. Then, when they increase the speed by 20%, that would mean that per hour, they are working faster, but since they are working fewer hours per day, the daily progress is 1.2S * 0.8? Wait, maybe.\\n\\nAlternatively, maybe the speed is per hour. Let me think again.\\n\\nLet me try to model this step by step.\\n\\nOriginal situation:\\n\\n- Let’s assume the original construction speed is S units per hour.\\n\\n- Original working hours per day: H hours.\\n\\nTherefore, original daily progress is S * H units per day.\\n\\nAfter using new equipment:\\n\\n- Construction speed increases by 20%, so new speed is 1.2S units per hour.\\n\\n- Working hours are reduced to 80% of original, so new working hours per day: 0.8H hours.\\n\\nTherefore, new daily progress is 1.2S * 0.8H = 0.96SH units per day.\\n\\nWait, so the daily progress actually decreases by 4%? That seems odd. But maybe that\\'s correct. However, the problem states that they started using new equipment which increased speed but reduced working hours. The net effect is a slight decrease in daily progress? Hmm. But the total time ended up being 185 days. If they had continued at original speed, would it have taken longer or shorter? The answer is supposed to be longer, since they are asking for the original total time. But according to this calculation, the new daily progress is 0.96 times original, so it\\'s slower. Then why did they finish in 185 days? Maybe my model is wrong.\\n\\nWait, perhaps the speed is per day, not per hour. Let me try that.\\n\\nOriginal speed: S units per day (regardless of hours). Then, when they increase speed by 20%, the new speed is 1.2S units per day. But working hours are reduced to 80% of original. But if speed is per day, then working hours are already factored into the speed. So changing the working hours would affect the speed. Hmm, this is confusing.\\n\\nAlternatively, maybe the problem is considering that the speed is per hour, and the total working hours per day is H. So original daily progress is S*H. With the new equipment, speed is 1.2S, and working hours is 0.8H, so new daily progress is 1.2S*0.8H = 0.96SH. So the daily progress is 96% of original. Therefore, they are actually progressing slower per day. But the problem says they used the new equipment and completed the tunnel in 185 days. If they had continued with the original equipment, it would have taken longer. But according to this, the new equipment made them slower, so they should have taken longer, but the problem says the total time was 185 days. So this seems contradictory.\\n\\nWait, maybe I misinterpreted the problem. Let me read again.\\n\\n\"A construction company was building a tunnel. When 1/3 of the tunnel was completed at the original speed, they started using new equipment, which increased the construction speed by 20% and reduced the working hours to 80% of the original. As a result, it took a total of 185 days to complete the tunnel. If they had not used the new equipment and continued at the original speed, it would have taken [ ] days to complete the tunnel.\"\\n\\nSo, the key is that after 1/3 of the tunnel was built at original speed, they switched to new equipment, which made their construction speed faster by 20% but working hours less by 20%. The combination of these two factors resulted in a total time of 185 days. We need to find the original total time.\\n\\nWait, perhaps the problem is that the speed increase is per hour, and the working hours are per day. So if they work faster per hour but fewer hours per day, the daily progress is (1.2 speed) * (0.8 hours) = 0.96 times original daily progress. So, slower daily progress. But then, if they only completed 1/3 at original speed and 2/3 at slower speed, the total time would be longer than original. But the problem says the total time was 185 days, which is supposed to be less than the original time? Wait, no. The answer is that if they had not used the new equipment, it would have taken more days. But according to this calculation, using the new equipment made them slower, so 185 days is actually longer than the original time? That can\\'t be. There must be a miscalculation here.\\n\\nWait, maybe the speed is per day, and working hours are part of the day. So original speed S is in tunnel length per day, working H hours per day. Then, when they increase the speed by 20%, that is, per hour speed, but reduce the working hours. Wait, this is getting too convoluted. Maybe we need to approach it differently.\\n\\nLet’s denote the original time to complete the entire tunnel as T days. Then, the original speed would be (1 tunnel) / T days = 1/T tunnel per day.\\n\\nBut they first completed 1/3 of the tunnel at original speed. So the time taken for the first 1/3 is (1/3) / (1/T) = T/3 days.\\n\\nThen, for the remaining 2/3 of the tunnel, they used new equipment. The new speed is 20% higher, so the new speed is 1.2*(1/T) tunnel per day. But the working hours are reduced to 80% of original. Wait, if the original working hours per day are H, then the new working hours are 0.8H. But how does that affect the speed? If speed is per day, then working hours per day are already factored into the speed. So if they reduce working hours, their per day progress would decrease, even if their per hour speed increases.\\n\\nAlternatively, maybe the speed is per hour. Let\\'s try that.\\n\\nOriginal speed: S tunnel per hour.\\n\\nOriginal working hours: H hours per day.\\n\\nTherefore, original daily progress: S*H tunnel per day.\\n\\nTotal tunnel length is 1 (for simplicity). Original time to complete: 1 / (S*H) days.\\n\\nAfter 1/3 completed, time taken: (1/3) / (S*H) days.\\n\\nThen, new speed: 1.2S tunnel per hour.\\n\\nNew working hours: 0.8H hours per day.\\n\\nNew daily progress: 1.2S * 0.8H = 0.96SH tunnel per day.\\n\\nRemaining tunnel length: 2/3.\\n\\nTime taken for remaining: (2/3) / (0.96SH) days.\\n\\nTotal time: (1/(3SH)) + (2/(3*0.96SH)) = 185 days.\\n\\nBut original total time would be 1/(SH) days. Let’s denote original total time as T = 1/(SH). Then, the equation becomes:\\n\\n(1/3)T + (2/3)/(0.96) * T = 185\\n\\nWait, let\\'s check:\\n\\nOriginal total time T = 1/(SH). Then, first part is (1/3)/ (SH) = T/3. Second part is (2/3)/ (0.96SH) = (2/3)/(0.96) * T. So total time is T/3 + (2/(3*0.96))T = 185.\\n\\nSo, T [1/3 + 2/(3*0.96)] = 185.\\n\\nCompute 2/(3*0.96):\\n\\nFirst, 3*0.96 = 2.88\\n\\n2 / 2.88 = 0.694444...\\n\\nSo, 1/3 + 0.694444 ≈ 0.333333 + 0.694444 ≈ 1.027777...\\n\\nTherefore, T ≈ 185 / 1.027777 ≈ 180 days.\\n\\nWait, so original total time T is approximately 180 days. But the problem says that with the new equipment, it took 185 days, which is longer? That contradicts the expectation. If they slowed down their daily progress, then the total time should be longer. But according to the problem statement, the answer is that without the new equipment, it would have taken longer. But according to this calculation, original time is 180 days, and with the new equipment, it took 185 days, which is longer. So this suggests that using the new equipment made them slower, which contradicts the problem\\'s implication that the new equipment was supposed to help. Hmm, maybe there\\'s a mistake in the interpretation.\\n\\nWait, perhaps the speed increase is not per hour, but per day. Let me try another approach.\\n\\nLet’s assume that the original rate is R (portion of tunnel per day). So, original speed: R tunnel per day. Then, when they switch to new equipment, the speed increases by 20%, so new speed is 1.2R. However, working hours are reduced to 80% of original. If working hours are reduced, but speed is increased, how does that affect the daily progress?\\n\\nWait, if the original speed is R tunnel per day, which already includes the working hours. So, if they reduce working hours to 80%, but increase speed (efficiency) by 20%, then the new daily progress would be 1.2R * 0.8 = 0.96R. So, again, a 4% decrease in daily progress. So, same as before.\\n\\nTherefore, the first 1/3 of the tunnel took (1/3)/R days. The remaining 2/3 took (2/3)/(0.96R) days. Total time: (1/(3R)) + (2/(3*0.96R)) = 185.\\n\\nLet T = 1/R, the original total time. Then:\\n\\nTotal time = T/3 + (2/(3*0.96))T = T [1/3 + 2/(2.88)] = T [0.333... + 0.69444...] ≈ T [1.027777...] = 185.\\n\\nTherefore, T ≈ 185 / 1.027777 ≈ 180 days. So original time is 180 days, but with the new equipment, it took 185 days. But the problem is asking, \"If they had not used the new equipment and continued at the original speed, it would have taken [ ] days\", which is 180 days. But according to the calculation, using the new equipment made them take longer. But the problem says \"As a result, it took a total of 185 days to complete the tunnel.\" So maybe the answer is 180 days. But that seems contradictory because using the new equipment increased the time. But maybe the problem is designed that way? Maybe the new equipment had some issues, so even though speed per hour increased, the reduced working hours made the overall progress slower, leading to longer total time. Then the answer is 180 days.\\n\\nBut let me check again. Let\\'s compute exactly:\\n\\n1/3 + 2/(3*0.96) = 1/3 + 2/(2.88) = 1/3 + 200/288 = 1/3 + 25/36\\n\\nConvert to common denominator:\\n\\n1/3 = 12/36\\n\\n25/36 = 25/36\\n\\nTotal: 37/36 ≈ 1.027777...\\n\\nSo, 37/36 * T = 185\\n\\nTherefore, T = 185 * (36/37) = (185*36)/37\\n\\nCalculate 185 divided by 37: 37*5=185, so 5.\\n\\nTherefore, T=5*36=180.\\n\\nSo T=180 days. Therefore, the answer is 180 days.\\n\\nBut the problem says that using the new equipment took 185 days, which is 5 days more than the original time. That seems counterintuitive. Maybe the problem is designed to show that even though speed increased, the reduction in working hours caused an overall increase in time. So the answer is 180 days.\\n\\nBut let me verify once more.\\n\\nOriginal total time: 180 days.\\n\\nFirst 1/3: 60 days (since 180/3=60).\\n\\nRemaining 2/3: original time would have been 120 days. But with the new equipment, the daily rate is 0.96R, so time is (2/3)/0.96R. Since original R is 1/180 per day, new rate is 0.96*(1/180) per day. So time is (2/3)/(0.96/180) = (2/3)*(180/0.96) = (2*180)/(3*0.96) = (360)/(2.88) = 125 days.\\n\\nTherefore, total time is 60 + 125 = 185 days. Correct. So original total time is 180 days, and with the new equipment, it\\'s 185 days. Therefore, the answer is 180 days.\\n\\nBut the problem says \"if they had not used the new equipment and continued at the original speed, it would have taken [ ] days\". So the answer is 180 days. Therefore, the answer is 180, which is \\\\boxed{180}.\\n\\n**Final Answer**\\n\\\\boxed{180}\\n</think>\\n\\nLet \\\\( T \\\\) be the original total time (in days) to complete the tunnel. The original speed is \\\\( \\\\frac{1}{T} \\\\) tunnel per day. \\n\\nWhen \\\\( \\\\frac{1}{3} \\\\) of the tunnel was completed at the original speed, the time taken is \\\\( \\\\frac{T}{3} \\\\) days. \\n\\nAfter using the new equipment, the construction speed increased by 20%, making the new speed \\\\( 1.2 \\\\times \\\\frac{1}{T} \\\\). However, the working hours were reduced to 80% of the original, so the effective daily progress is \\\\( 0.96 \\\\times \\\\frac{1}{T} \\\\) tunnel per day. \\n\\nThe remaining \\\\( \\\\frac{2}{3} \\\\) of the tunnel at the new speed takes:\\n\\\\[\\n\\\\frac{\\\\frac{2}{3}}{0.96 \\\\times \\\\frac{1}{T}} = \\\\frac{2T}{3 \\\\times 0.96} = \\\\frac{2T}{2.88} = \\\\frac{25T}{36}\\n\\\\]\\n\\nThe total time taken with the new equipment is:\\n\\\\[\\n\\\\frac{T}{3} + \\\\frac{25T}{36} = \\\\frac{12T}{36} + \\\\frac{25T}{36} = \\\\frac{37T}{36}\\n\\\\]\\n\\nGiven that the total time is 185 days, we have:\\n\\\\[\\n\\\\frac{37T}{36} = 185\\n\\\\]\\n\\nSolving for \\\\( T \\\\):\\n\\\\[\\nT = 185 \\\\times \\\\frac{36}{37} = 5 \\\\times 36 = 180\\n\\\\]\\n\\nThus, if they had not used the new equipment and continued at the original speed, it would have taken \\\\(\\\\boxed{180}\\\\) days to complete the tunnel.']"
      ]
     },
     "execution_count": 14,
     "metadata": {},
     "output_type": "execute_result"
    }
   ],
   "source": [
    "sample_dataset['reasoning_trace']"
   ]
  },
  {
   "cell_type": "markdown",
   "metadata": {},
   "source": [
    "## Step 3: Post-Process Distilled Data\n",
    "\n",
    "After generating data, we should filter out any low-quality reasoning data. We can establish some filtering rules, such as:\n",
    "- Whether the language in the reasoning trace meets requirements\n",
    "- Whether the reasoning trace format is correct, i.e., wrapping the thinking process in `<think></think>` tags before giving the final answer\n",
    "- Whether the answer given in the reasoning trace is correct\n",
    "- Other filtering rules mentioned in the R1 paper\n",
    "    - Long paragraphs\n",
    "    - Containing Code blocks\n",
    "\n",
    "In this tutorial, we will only verify the format and the correctness of the answers."
   ]
  },
  {
   "cell_type": "code",
   "execution_count": 15,
   "metadata": {},
   "outputs": [],
   "source": [
    "import re\n",
    "from latex2sympy2_extended import NormalizationConfig\n",
    "from math_verify import LatexExtractionConfig, parse, verify\n",
    "\n",
    "\n",
    "def check_format(reasoning_trace):\n",
    "    pattern = r\"^<think>.*?</think>\"\n",
    "    if not re.match(pattern, reasoning_trace, re.DOTALL | re.MULTILINE):\n",
    "        return False\n",
    "    # check if all tags only appear once\n",
    "    tags = [\"<think>\", \"</think>\"]\n",
    "    for tag in tags:\n",
    "        if reasoning_trace.count(tag) != 1:\n",
    "            return False\n",
    "    return True\n",
    "\n",
    "# We use math_verify to check if the answer is mathematically equivalent to the ground truth\n",
    "def calculate_answer(reasoning_trace, ground_truth):\n",
    "    \"\"\"Check if the answer is the same as the ground truth.\"\"\"\n",
    "    answer_parsed = parse(\n",
    "        reasoning_trace,\n",
    "        extraction_config=[\n",
    "            LatexExtractionConfig(\n",
    "                normalization_config=NormalizationConfig(\n",
    "                    nits=False,\n",
    "                    malformed_operators=False,\n",
    "                    basic_latex=True,\n",
    "                    equations=True,\n",
    "                    boxed=True,\n",
    "                    units=True,\n",
    "                ),\n",
    "                # Ensures that boxed is tried first\n",
    "                boxed_match_priority=0,\n",
    "                try_extract_without_anchor=False,\n",
    "            )\n",
    "        ],\n",
    "        extraction_mode=\"first_match\",\n",
    "    )\n",
    "\n",
    "    return verify(answer_parsed, ground_truth)\n",
    "\n",
    "def filter_reasoning_trace(example):\n",
    "    reasoning_trace = example[\"reasoning_trace\"]\n",
    "    ground_truth = example[\"answer\"]\n",
    "    if not check_format(reasoning_trace):\n",
    "        return {**example, \"filtered\": True, \"filtered_reason\": \"INVALID_FORMAT\"}\n",
    "    if not calculate_answer(reasoning_trace, ground_truth):\n",
    "        return {**example, \"filtered\": True, \"filtered_reason\": \"INCORRECT_ANSWER\"}\n",
    "    return {**example, \"filtered\": False, \"filtered_reason\": \"VALID\"}"
   ]
  },
  {
   "cell_type": "code",
   "execution_count": 16,
   "metadata": {},
   "outputs": [
    {
     "name": "stderr",
     "output_type": "stream",
     "text": [
      "Filtering reasoning traces:   0%|          | 0/2 [00:00<?, ? examples/s]equations=True in NormalizationConfig is deprecated, as it handled by the parser now\n",
      "equations=True in NormalizationConfig is deprecated, as it handled by the parser now\n",
      "Filtering reasoning traces: 100%|██████████| 2/2 [00:00<00:00, 31.44 examples/s]\n",
      "Filter: 100%|██████████| 2/2 [00:00<00:00, 985.39 examples/s]\n",
      "Saving the dataset (1/1 shards): : 0 examples [00:00, ? examples/s]\n"
     ]
    }
   ],
   "source": [
    "sample_dataset = sample_dataset.map(filter_reasoning_trace, desc=\"Filtering reasoning traces\")\n",
    "\n",
    "# filter out the invalid reasoning traces\n",
    "filtered_dataset = sample_dataset.filter(lambda x: not x[\"filtered\"])\n",
    "\n",
    "# save the filtered dataset\n",
    "filtered_dataset.save_to_disk(\"filtered_dataset\")"
   ]
  },
  {
   "cell_type": "markdown",
   "metadata": {},
   "source": [
    "## Next Steps\n",
    "\n",
    "Due to the randomness of the reasoning process, we can run the above process multiple times to generate multiple reasoning traces for each question. Then, we can apply quality filtering to construct the distilled dataset.\n",
    "\n",
    "After collecting the distilled dataset, you can refer to [the qwen2 distillation notebook](./qwen2_distill_nemo.ipynb) to train your model using this dataset."
   ]
  }
 ],
 "metadata": {
  "kernelspec": {
   "display_name": "Python 3 (ipykernel)",
   "language": "python",
   "name": "python3"
  },
  "language_info": {
   "codemirror_mode": {
    "name": "ipython",
    "version": 3
   },
   "file_extension": ".py",
   "mimetype": "text/x-python",
   "name": "python",
   "nbconvert_exporter": "python",
   "pygments_lexer": "ipython3",
   "version": "3.12.3"
  }
 },
 "nbformat": 4,
 "nbformat_minor": 4
}
